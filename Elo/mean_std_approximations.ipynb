{
 "cells": [
  {
   "cell_type": "code",
   "execution_count": null,
   "metadata": {},
   "outputs": [],
   "source": [
    "import numpy as np\n",
    "import plotly.graph_objects as go\n",
    "from plotly.subplots import make_subplots\n",
    "from sklearn.linear_model import LinearRegression\n",
    "from sklearn.svm import SVR\n",
    "from sklearn.pipeline import make_pipeline\n",
    "from sklearn.preprocessing import StandardScaler\n",
    "from sklearn.neural_network import MLPRegressor"
   ]
  },
  {
   "cell_type": "code",
   "execution_count": null,
   "metadata": {},
   "outputs": [],
   "source": [
    "line_color = '#f1f5f9'\n",
    "font_color = '#f1f5f9'\n",
    "background_color = '#032137'\n",
    "\n",
    "layout_dict = dict(\n",
    "    font_color=font_color,\n",
    "    paper_bgcolor='rgba(0,0,0,0)',\n",
    "    plot_bgcolor='rgba(0,0,0,0)',\n",
    "    xaxis = dict(gridcolor=line_color, linecolor=line_color, zerolinecolor=line_color),\n",
    "    yaxis = dict(gridcolor=line_color, linecolor=line_color, zerolinecolor=line_color),\n",
    "    legend=dict(x=0, y=1, bgcolor=background_color),\n",
    "    margin=dict(r=0, l=0, b=0)\n",
    ")\n",
    "\n",
    "tablet_args = dict(default_width='700px', default_height='300px')\n",
    "mobile_args = dict(default_width='400px', default_height='175px')"
   ]
  },
  {
   "cell_type": "code",
   "execution_count": null,
   "metadata": {},
   "outputs": [],
   "source": [
    "def bound_array(a, bounds=[0, 1]):\n",
    "    s = a.copy()\n",
    "\n",
    "    # Check number of times it breaks bounds\n",
    "    signed_crosses = np.floor((s - bounds[0]) / (bounds[1] - bounds[0])).astype(int)\n",
    "    crosses = np.floor(np.where(signed_crosses < 0, -signed_crosses, signed_crosses)).astype(int)\n",
    "\n",
    "    # Reorient direction\n",
    "    s *= ((-1) ** crosses)\n",
    "\n",
    "    # Reposition to maintain continuity\n",
    "    s += (bounds[1] - bounds[0]) * signed_crosses * (-1) ** (crosses + 1)\n",
    "    s += (bounds[1] + bounds[0]) * 0 ** ((crosses + 1) % 2)\n",
    "\n",
    "    return s\n",
    "\n",
    "def non_stationary_bounded_random_walk(initial=1/2, bounds=[0, 1], size=[1000, 1], drift=0, std=0.001, std_bounds=[0, 0.05]):\n",
    "    # Generate stds\n",
    "    std_array = abs(np.random.normal(loc=drift, scale=std, size=size).cumsum(0) + std)\n",
    "    std_array = bound_array(std_array, std_bounds)   \n",
    "\n",
    "    # Generate random walk initialized on 0\n",
    "    walk = np.random.normal(loc=drift, scale=std_array, size=size).cumsum(0) + initial\n",
    "    walk = bound_array(walk, bounds)        \n",
    "\n",
    "    return walk\n",
    "\n",
    "# Nice example plot\n",
    "walks = non_stationary_bounded_random_walk(size=1000, drift=0.001)\n",
    "\n",
    "fig = make_subplots(specs=[[{\"secondary_y\": True}]])\n",
    "\n",
    "fig.add_trace(go.Scatter(y=walks, opacity=0.5, name='Random Walk'), secondary_y=False)\n",
    "# fig.add_trace(go.Scatter(y=std_array, opacity=0.5, name='Std'), secondary_y=True)\n",
    "\n",
    "fig.update_layout(**layout_dict, title='Non Stationary Random Walk')\n",
    "fig.update_yaxes(range=[-0.2, 1.2], secondary_y=False)\n",
    "fig.update_yaxes(range=[-0.01, 0.06], secondary_y=True)\n",
    "fig.show()"
   ]
  },
  {
   "attachments": {},
   "cell_type": "markdown",
   "metadata": {},
   "source": [
    "# Approximating Standard Deviation"
   ]
  },
  {
   "cell_type": "code",
   "execution_count": null,
   "metadata": {},
   "outputs": [],
   "source": [
    "def apply_rolling_function(array, window, func):\n",
    "    shape = list(array.shape)\n",
    "    res = np.zeros(shape)\n",
    "\n",
    "    for i in range(shape[0]):\n",
    "        res[i] = func(array[max(0, i - window):min(shape[0], i + window)], axis=0)\n",
    "\n",
    "    return res\n",
    "\n",
    "def step_mean(array, alpha, init=0.5):\n",
    "    N = array.shape\n",
    "    means = alpha * np.ones(N) * init + (1 - alpha) * array[0]\n",
    "\n",
    "    for i in range(1, N[0]):\n",
    "        means[i] = alpha * means[i - 1] + (1 - alpha) * array[i]\n",
    "\n",
    "    return means\n"
   ]
  },
  {
   "cell_type": "code",
   "execution_count": null,
   "metadata": {},
   "outputs": [],
   "source": [
    "def generate_X(games_results: np.array, windows: list = [5, 10, 20, 50, 100], alphas: list = [0.85, 0.9, 0.95, 0.975, 0.99]):\n",
    "    # Generate indexes\n",
    "    shape = games_results.shape\n",
    "    random_walk_ids = np.log(1 + np.array(list(range(shape[0])) * shape[1])).tolist()\n",
    "\n",
    "    # Calculate window means, stds\n",
    "    window_means = np.empty([len(windows), 0]).tolist()\n",
    "    window_stds = np.empty([len(windows), 0]).tolist()\n",
    "    for i in range(len(windows)):\n",
    "        window_means[i] = apply_rolling_function(games_results, windows[i], np.mean).T\n",
    "        window_stds[i] = apply_rolling_function(games_results, windows[i], np.std).T\n",
    "\n",
    "    # Calculate step means, stds\n",
    "    step_means = np.empty([len(alphas), 0]).tolist()\n",
    "    step_stds = np.empty([len(alphas), 0]).tolist()\n",
    "    for i in range(len(alphas)):\n",
    "        step_means[i] = step_mean(games_results, alphas[i])\n",
    "        step_stds[i] = apply_rolling_function(step_means[i], 10, np.std).T\n",
    "        step_means[i] = step_means[i].T\n",
    "    X = np.array(\n",
    "        random_walk_ids +\n",
    "        np.array(games_results).flatten().tolist() +\n",
    "        np.array(window_means).flatten().tolist() +\n",
    "        np.array(window_stds).flatten().tolist() +\n",
    "        np.array(step_means).flatten().tolist() +\n",
    "        np.array(step_stds).flatten().tolist()\n",
    "    ).reshape([2 + 2 * len(windows) + 2 * len(alphas), -1])\n",
    "\n",
    "    return X\n",
    "\n",
    "\n",
    "\n",
    "def data_generator(n_par: int, n_runs: int, depth: int, windows: list = [5, 10, 20, 50, 100], alphas: list = [0.85, 0.9, 0.95, 0.975, 0.99]):\n",
    "    # Controlling variables\n",
    "    N = [depth, n_runs]\n",
    "    params = zip(np.random.rand(n_par), np.random.rand(n_par) * 0.001, np.random.rand(n_par) * 0.1)\n",
    "    params = [\n",
    "        {\n",
    "            'initial': item[0],\n",
    "            'drift': item[1],\n",
    "            'std': item[2]\n",
    "        } for item in params\n",
    "    ]\n",
    "\n",
    "    y = []\n",
    "    X = np.empty([2 + 2 * len(windows) + 2 * len(alphas), 0]).tolist()\n",
    "    for param in params:\n",
    "        # Generate Y\n",
    "        p = non_stationary_bounded_random_walk(**param, size=N)\n",
    "        y += p.T.flatten().tolist()\n",
    "\n",
    "        # Calculate games results\n",
    "        games_results = (np.random.random(N) <= p).astype(int)\n",
    "\n",
    "        # Fill X\n",
    "        _X = generate_X(games_results, windows=windows, alphas=alphas).tolist()\n",
    "        for i in range(len(X)):\n",
    "            X[i] += _X[i]\n",
    "\n",
    "    X = np.array(X).T\n",
    "    y = np.array(y).reshape([-1, 1])\n",
    "    return X, y"
   ]
  },
  {
   "attachments": {},
   "cell_type": "markdown",
   "metadata": {},
   "source": [
    "## Models\n",
    "\n",
    "I want to try 3 different models: Linear Regression, Support Vector Regression and Neural Networks."
   ]
  },
  {
   "cell_type": "code",
   "execution_count": null,
   "metadata": {},
   "outputs": [],
   "source": [
    "def fit_and_predict(model, flatten=False):\n",
    "    X, y = data_generator(100, 10, 500)\n",
    "    if flatten: y = y.flatten()\n",
    "\n",
    "    reg = model.fit(X, y)\n",
    "\n",
    "    X, y = data_generator(100, 5, 3000)\n",
    "    if flatten: y = y.flatten()\n",
    "    prediction = reg.predict(X)\n",
    "    np.clip(prediction, 0, 1)\n",
    "    diff = abs(y - prediction).flatten()\n",
    "\n",
    "    return diff\n",
    "\n",
    "def plot_histogram(diff):\n",
    "    quantiles = np.quantile(diff, [0.1, 0.5, 0.9])\n",
    "\n",
    "    print(f'Median: {quantiles[1]}\\n80%CI: {quantiles[2] - quantiles[0]}')\n",
    "\n",
    "    fig = go.Figure(layout=layout_dict)\n",
    "\n",
    "    fig.add_trace(go.Histogram(x=diff))\n",
    "\n",
    "    fig.show()\n",
    "\n",
    "def plot_quantiles(diff, depth: int=3000):\n",
    "    diff_2d = diff.reshape([-1, depth]).T\n",
    "    quantiles_2d = np.quantile(diff_2d, [0.1, 0.5, 0.9], axis=1)\n",
    "\n",
    "    x_range = list(range(depth)) + list(reversed(range(depth)))\n",
    "\n",
    "    fig = go.Figure(layout=layout_dict)\n",
    "\n",
    "    fig.add_trace(go.Scatter(y=quantiles_2d[1], name='Median'))\n",
    "    fig.add_trace(go.Scatter(\n",
    "            x = x_range, y=list(quantiles_2d[2]) + list(quantiles_2d[0][::-1]), fill='toself', mode='none',\n",
    "            hoveron='points', fillcolor='lightblue', name=f'80% CI', opacity=0.5\n",
    "        ))\n",
    "\n",
    "    fig.show()"
   ]
  },
  {
   "attachments": {},
   "cell_type": "markdown",
   "metadata": {},
   "source": [
    "## Step median"
   ]
  },
  {
   "cell_type": "code",
   "execution_count": null,
   "metadata": {},
   "outputs": [],
   "source": [
    "X, y = data_generator(100, 5, 3000, windows=[], alphas=[0.9])\n",
    "\n",
    "y = y.flatten()\n",
    "prediction = X.T[2]\n",
    "np.clip(prediction, 0, 1)\n",
    "diff = abs(y - prediction).flatten()\n",
    "\n",
    "plot_histogram(diff)"
   ]
  },
  {
   "cell_type": "code",
   "execution_count": null,
   "metadata": {},
   "outputs": [],
   "source": [
    "plot_quantiles(diff)"
   ]
  },
  {
   "attachments": {},
   "cell_type": "markdown",
   "metadata": {},
   "source": [
    "### Linear Regression"
   ]
  },
  {
   "cell_type": "code",
   "execution_count": null,
   "metadata": {},
   "outputs": [],
   "source": [
    "diff = fit_and_predict(LinearRegression())\n",
    "\n",
    "plot_histogram(diff)"
   ]
  },
  {
   "cell_type": "code",
   "execution_count": null,
   "metadata": {},
   "outputs": [],
   "source": [
    "plot_quantiles(diff)"
   ]
  },
  {
   "attachments": {},
   "cell_type": "markdown",
   "metadata": {},
   "source": [
    "## Support Vector Regression"
   ]
  },
  {
   "cell_type": "code",
   "execution_count": null,
   "metadata": {},
   "outputs": [],
   "source": [
    "diff = fit_and_predict(make_pipeline(StandardScaler(), SVR(max_iter=1000, epsilon=0.01, C=1)), flatten=True)\n",
    "\n",
    "plot_histogram(diff)"
   ]
  },
  {
   "cell_type": "code",
   "execution_count": null,
   "metadata": {},
   "outputs": [],
   "source": [
    "plot_quantiles(diff)"
   ]
  },
  {
   "attachments": {},
   "cell_type": "markdown",
   "metadata": {},
   "source": [
    "## Neural Network"
   ]
  },
  {
   "cell_type": "code",
   "execution_count": null,
   "metadata": {},
   "outputs": [],
   "source": [
    "layers = (4, 4, 2)\n",
    "diff = fit_and_predict(MLPRegressor(batch_size=1000, max_iter=10000, hidden_layer_sizes=layers), flatten=True)\n",
    "\n",
    "plot_histogram(diff)"
   ]
  },
  {
   "cell_type": "code",
   "execution_count": null,
   "metadata": {},
   "outputs": [],
   "source": [
    "plot_quantiles(diff)"
   ]
  }
 ],
 "metadata": {
  "kernelspec": {
   "display_name": "Python 3",
   "language": "python",
   "name": "python3"
  },
  "language_info": {
   "codemirror_mode": {
    "name": "ipython",
    "version": 3
   },
   "file_extension": ".py",
   "mimetype": "text/x-python",
   "name": "python",
   "nbconvert_exporter": "python",
   "pygments_lexer": "ipython3",
   "version": "3.11.0"
  },
  "orig_nbformat": 4
 },
 "nbformat": 4,
 "nbformat_minor": 2
}
