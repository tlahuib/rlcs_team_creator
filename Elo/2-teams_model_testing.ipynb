{
 "cells": [
  {
   "cell_type": "code",
   "execution_count": null,
   "metadata": {},
   "outputs": [],
   "source": [
    "import numpy as np\n",
    "import pickle\n",
    "import plotly.graph_objects as go\n",
    "from plotly.subplots import make_subplots\n",
    "from sklearn.linear_model import LinearRegression\n",
    "from sklearn.neural_network import MLPRegressor\n",
    "\n",
    "import utils"
   ]
  },
  {
   "cell_type": "code",
   "execution_count": null,
   "metadata": {},
   "outputs": [],
   "source": [
    "# Nice example plot\n",
    "walks = utils.non_stationary_bounded_random_walk(size=1000, drift=0.001)\n",
    "\n",
    "fig = make_subplots(specs=[[{\"secondary_y\": True}]])\n",
    "\n",
    "fig.add_trace(go.Scatter(y=walks, opacity=0.5, name='Random Walk'), secondary_y=False)\n",
    "\n",
    "fig.update_layout(**utils.layout_dict, title='Non Stationary Random Walk')\n",
    "fig.update_yaxes(range=[-0.2, 1.2], secondary_y=False)\n",
    "fig.update_yaxes(range=[-0.01, 0.06], secondary_y=True)\n",
    "fig.show()"
   ]
  },
  {
   "attachments": {},
   "cell_type": "markdown",
   "metadata": {},
   "source": [
    "# Approximating Standard Deviation"
   ]
  },
  {
   "cell_type": "code",
   "execution_count": null,
   "metadata": {},
   "outputs": [],
   "source": [
    "def data_generator(n_par: int, n_runs: int, depth: int, windows: list = [5, 10, 20, 50, 100], alphas: list = [0.85, 0.9, 0.95, 0.975, 0.99]):\n",
    "    # Controlling variables\n",
    "    N = [depth, n_runs]\n",
    "    params = zip(np.random.rand(n_par), np.random.rand(n_par) * 0.001, np.random.rand(n_par) * 0.1)\n",
    "    params = [\n",
    "        {\n",
    "            'initial': item[0],\n",
    "            'drift': item[1],\n",
    "            'std': item[2]\n",
    "        } for item in params\n",
    "    ]\n",
    "\n",
    "    y = []\n",
    "    X = np.empty([2 + 2 * len(windows) + 2 * len(alphas), 0]).tolist()\n",
    "    for param in params:\n",
    "        # Generate Y\n",
    "        p = utils.non_stationary_bounded_random_walk(**param, size=N)\n",
    "        y += p.T.flatten().tolist()\n",
    "\n",
    "        # Calculate games results\n",
    "        games_results = (np.random.random(N) <= p).astype(int)\n",
    "\n",
    "        # Fill X\n",
    "        _X = utils.generate_X(games_results, windows=windows, alphas=alphas).tolist()\n",
    "        for i in range(len(X)):\n",
    "            X[i] += _X[i]\n",
    "\n",
    "    X = np.array(X).T\n",
    "    y = np.array(y).reshape([-1, 1])\n",
    "    return X, y"
   ]
  },
  {
   "attachments": {},
   "cell_type": "markdown",
   "metadata": {},
   "source": [
    "## Models\n",
    "\n",
    "I want to try 3 different models: Linear Regression, Support Vector Regression and Neural Networks."
   ]
  },
  {
   "cell_type": "code",
   "execution_count": null,
   "metadata": {},
   "outputs": [],
   "source": [
    "def fit_and_predict(model, flatten=False, save_model=False, model_name='model.pkl'):\n",
    "    X, y = data_generator(100, 10, 500)\n",
    "    if flatten: y = y.flatten()\n",
    "\n",
    "    reg = model.fit(X, y)\n",
    "\n",
    "    if save_model:\n",
    "        pickle.dump(reg, open(model_name, 'wb'))\n",
    "\n",
    "    X, y = data_generator(100, 5, 3000)\n",
    "    if flatten: y = y.flatten()\n",
    "\n",
    "    prediction = reg.predict(X)\n",
    "    np.clip(prediction, 0, 1)\n",
    "    diff = abs(y - prediction).flatten()\n",
    "\n",
    "    return diff, X, y, prediction\n",
    "\n",
    "def plot_histogram(diff):\n",
    "    quantiles = np.quantile(diff, [0.1, 0.5, 0.9])\n",
    "\n",
    "    print(f'Median: {quantiles[1]}\\n80%CI: {quantiles[2] - quantiles[0]}')\n",
    "\n",
    "    fig = go.Figure(layout=utils.layout_dict)\n",
    "\n",
    "    fig.add_trace(go.Histogram(x=diff))\n",
    "\n",
    "    fig.show()\n",
    "\n",
    "def plot_quantiles(diff, depth: int=3000):\n",
    "    diff_2d = diff.reshape([-1, depth]).T\n",
    "    quantiles_2d = np.quantile(diff_2d, [0.1, 0.5, 0.9], axis=1)\n",
    "\n",
    "    x_range = list(range(depth)) + list(reversed(range(depth)))\n",
    "\n",
    "    fig = go.Figure(layout=utils.layout_dict)\n",
    "\n",
    "    fig.add_trace(go.Scatter(y=quantiles_2d[1], name='Median'))\n",
    "    fig.add_trace(go.Scatter(\n",
    "            x = x_range, y=list(quantiles_2d[2]) + list(quantiles_2d[0][::-1]), fill='toself', mode='none',\n",
    "            hoveron='points', fillcolor='lightblue', name=f'80% CI', opacity=0.5\n",
    "        ))\n",
    "\n",
    "    fig.show()"
   ]
  },
  {
   "attachments": {},
   "cell_type": "markdown",
   "metadata": {},
   "source": [
    "## Step median (baseline)"
   ]
  },
  {
   "cell_type": "code",
   "execution_count": null,
   "metadata": {},
   "outputs": [],
   "source": [
    "X, y = data_generator(100, 5, 3000, windows=[], alphas=[0.9])\n",
    "\n",
    "y = y.flatten()\n",
    "prediction = X.T[2]\n",
    "np.clip(prediction, 0, 1)\n",
    "diff = abs(y - prediction).flatten()\n",
    "\n",
    "plot_histogram(diff)"
   ]
  },
  {
   "cell_type": "code",
   "execution_count": null,
   "metadata": {},
   "outputs": [],
   "source": [
    "plot_quantiles(diff)"
   ]
  },
  {
   "attachments": {},
   "cell_type": "markdown",
   "metadata": {},
   "source": [
    "### Linear Regression"
   ]
  },
  {
   "cell_type": "code",
   "execution_count": null,
   "metadata": {},
   "outputs": [],
   "source": [
    "diff, X, y, prediction = fit_and_predict(LinearRegression(), save_model=True, model_name='LR.pkl')\n",
    "\n",
    "plot_histogram(diff)"
   ]
  },
  {
   "cell_type": "code",
   "execution_count": null,
   "metadata": {},
   "outputs": [],
   "source": [
    "plot_quantiles(diff)"
   ]
  },
  {
   "cell_type": "code",
   "execution_count": null,
   "metadata": {},
   "outputs": [],
   "source": [
    "y = y.reshape([-1, 3000])\n",
    "prediction = prediction.reshape([-1, 3000])\n",
    "\n",
    "fig = go.Figure(layout=utils.layout_dict)\n",
    "\n",
    "i = 3\n",
    "fig.add_trace(go.Scatter(y=y[i], name='Original Probabilities'))\n",
    "fig.add_trace(go.Scatter(y=prediction[i], name='Predicted Probabilities'))\n",
    "\n",
    "fig.show()\n"
   ]
  },
  {
   "attachments": {},
   "cell_type": "markdown",
   "metadata": {},
   "source": [
    "## Neural Network"
   ]
  },
  {
   "cell_type": "code",
   "execution_count": null,
   "metadata": {},
   "outputs": [],
   "source": [
    "layers = (4, 4, 2)\n",
    "diff, X, y, prediction = fit_and_predict(MLPRegressor(batch_size=1000, max_iter=10000, hidden_layer_sizes=layers), flatten=True)\n",
    "\n",
    "plot_histogram(diff)"
   ]
  },
  {
   "cell_type": "code",
   "execution_count": null,
   "metadata": {},
   "outputs": [],
   "source": [
    "plot_quantiles(diff)"
   ]
  },
  {
   "cell_type": "code",
   "execution_count": null,
   "metadata": {},
   "outputs": [],
   "source": [
    "y = y.reshape([-1, 3000])\n",
    "prediction = prediction.reshape([-1, 3000])\n",
    "\n",
    "fig = go.Figure(layout=utils.layout_dict)\n",
    "\n",
    "i = 3\n",
    "fig.add_trace(go.Scatter(y=y[i], name='Original Probabilities'))\n",
    "fig.add_trace(go.Scatter(y=prediction[i], name='Predicted Probabilities'))\n",
    "\n",
    "fig.show()"
   ]
  }
 ],
 "metadata": {
  "kernelspec": {
   "display_name": "Python 3",
   "language": "python",
   "name": "python3"
  },
  "language_info": {
   "codemirror_mode": {
    "name": "ipython",
    "version": 3
   },
   "file_extension": ".py",
   "mimetype": "text/x-python",
   "name": "python",
   "nbconvert_exporter": "python",
   "pygments_lexer": "ipython3",
   "version": "3.11.0"
  },
  "orig_nbformat": 4
 },
 "nbformat": 4,
 "nbformat_minor": 2
}
