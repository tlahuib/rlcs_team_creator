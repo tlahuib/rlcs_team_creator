{
 "cells": [
  {
   "cell_type": "code",
   "execution_count": null,
   "metadata": {},
   "outputs": [],
   "source": [
    "import numpy as np\n",
    "import plotly.express as px\n",
    "import plotly.graph_objects as go\n",
    "from plotly.subplots import make_subplots\n",
    "from concurrent.futures import ProcessPoolExecutor, ThreadPoolExecutor\n",
    "\n",
    "image_path = 'C:/Users/tabm9/OneDrive - Caissa Analytica/Documents/DS_Portfolio/Projects/Images/RLCS'"
   ]
  },
  {
   "attachments": {},
   "cell_type": "markdown",
   "metadata": {},
   "source": [
    "# Test with only 2 teams"
   ]
  },
  {
   "cell_type": "code",
   "execution_count": null,
   "metadata": {},
   "outputs": [],
   "source": [
    "def run_games(Pa=1/4, K=1, N=[10000, 1], thres=0.10, stop_burnout=False):\n",
    "    # Run N games\n",
    "    Sa = (np.random.random(N) < Pa).astype(int)\n",
    "\n",
    "    # Calculate Ratings\n",
    "    Ra = np.zeros(N)\n",
    "    pa = np.zeros(N)\n",
    "    pa[1] += 1/2\n",
    "    finished_burnout = np.array([False] * N[1])\n",
    "    n_to_convergence = np.ones(N[1]) * (N[0] + 1)\n",
    "    for i in range(1, N[0]):\n",
    "        # Update rating\n",
    "        Ra[i] = Ra[i-1] + K * (Sa[i - 1] - pa[i - 1])\n",
    "\n",
    "        # Update Approx Probabilities\n",
    "        pa[i] = 1 / (1 + 10 ** (-2 * Ra[i] / 400))\n",
    "\n",
    "        # Check if burnout is finished\n",
    "        if not all(finished_burnout):\n",
    "            condition = abs(pa[i] - Pa) <= Pa * thres\n",
    "            finished_burnout = np.where(condition, True, finished_burnout)\n",
    "            n_to_convergence = np.where(finished_burnout, n_to_convergence, i + 1)\n",
    "\n",
    "            if all(finished_burnout) and stop_burnout:\n",
    "                break\n",
    "\n",
    "    return pa.T, n_to_convergence\n",
    "        "
   ]
  },
  {
   "cell_type": "code",
   "execution_count": null,
   "metadata": {},
   "outputs": [],
   "source": [
    "def logbase(base, x):\n",
    "    return np.log(x) / np.log(base)\n",
    "\n",
    "def K_generator(K_interval=[0,400], K_default=300):\n",
    "    K_d = (K_default - K_interval[0]) / (K_interval[1] - K_interval[0])\n",
    "    b = logbase(1/2, 1/2 - np.log((1 + np.e ** (-2 * np.e) - K_d) / (K_d + np.e ** (-2 * np.e))) / (4 * np.e))\n",
    "\n",
    "    def K(x, b=b, K_interval=K_interval):\n",
    "        return (K_interval[1] - K_interval[0]) * ((1 + 2 * np.e ** (-2 * np.e)) / (1 + np.e ** (-4 * np.e * (x ** b - 1/2))) - np.e ** (-2 * np.e)) + K_interval[0]\n",
    "\n",
    "    return K\n",
    "\n",
    "\n",
    "\n",
    "def run_games_improved(Pa=1/4, K_interval=[0,200], K_default=180, N=[10000, 1], thres=0.10, thres_n=10, stop_burnout=False):\n",
    "    # Run N games\n",
    "    Sa = (np.random.random(N) < Pa).astype(int)\n",
    "\n",
    "    # Calculate Ratings\n",
    "    Ra = np.zeros(N)\n",
    "    pa = np.zeros(N)\n",
    "    pa[1] += 1/2\n",
    "    fpa_list = pa.copy()\n",
    "    finished_burnout = np.array([False] * N[1])\n",
    "    n_to_convergence = np.ones(N[1]) * (N[0] + 1)\n",
    "    K = K_generator(K_interval=K_interval, K_default=K_default)\n",
    "    K_list = -np.ones(N)\n",
    "\n",
    "    for i in range(1, N[0]):\n",
    "        # Update rating\n",
    "        frequentist_pa = Sa[:i].sum(0) / i\n",
    "        \n",
    "        K_i = K(abs(pa[i - 1] - frequentist_pa))\n",
    "        Ra[i] = Ra[i-1] + K_i * (Sa[i - 1] - pa[i - 1])\n",
    "\n",
    "        K_list[i] = K_i\n",
    "        fpa_list[i] = frequentist_pa\n",
    "\n",
    "        # Update Approx Probabilities\n",
    "        pa[i] = 1 / (1 + 10 ** (-2 * Ra[i] / 400))\n",
    "        # print(K_i, Ra[i], pa[i])\n",
    "\n",
    "        # Check if burnout is finished\n",
    "        if not all(finished_burnout) and i >= thres_n:\n",
    "            condition = (abs(pa[i - thres_n: i] - Pa) <= Pa * thres).T.all(1)\n",
    "            finished_burnout = np.where(condition, True, finished_burnout)\n",
    "            n_to_convergence = np.where(finished_burnout, n_to_convergence, i + 1 - thres_n)\n",
    "\n",
    "            if all(finished_burnout) and stop_burnout:\n",
    "                break\n",
    "\n",
    "    return pa.T, n_to_convergence, fpa_list.T"
   ]
  },
  {
   "cell_type": "code",
   "execution_count": null,
   "metadata": {},
   "outputs": [],
   "source": [
    "Pa = 1/4\n",
    "N = [3000, 1000]\n",
    "N_range = list(range(N[0] + 1))\n",
    "# pa, n_to_convergence = run_games(Pa=Pa, N=N)\n",
    "pa_improved, n_to_convergence_improved, fpa_list = run_games_improved(Pa=Pa, N=N)\n",
    "\n",
    "# print(n_to_convergence_improved)\n",
    "\n",
    "fig = make_subplots(rows = 2)\n",
    "\n",
    "fig.add_trace(go.Scatter(x=N_range, y=[Pa] * (N[0] + 1), line=dict(color='black'), name='Real Probability'), row=1, col=1)\n",
    "\n",
    "for i in range(N[1]):\n",
    "    if i == 0:\n",
    "        # fig.add_trace(go.Scatter(x=N_range, y=pa[i], opacity=np.sqrt(1 / N[1]), line=dict(color='blue'), name='Approximated Probability'), row=1, col=1)\n",
    "        fig.add_trace(go.Scatter(x=N_range, y=pa_improved[i], opacity=np.sqrt(1 / N[1]), line=dict(color='red'), name='Approximated Probability with inertia'), row=1, col=1)\n",
    "    else:\n",
    "        # fig.add_trace(go.Scatter(x=N_range, y=pa[i], opacity=np.sqrt(1 / N[1]), line=dict(color='blue'), showlegend=False), row=1, col=1)\n",
    "        fig.add_trace(go.Scatter(x=N_range, y=pa_improved[i], opacity=np.sqrt(1 / N[1]), line=dict(color='red'), showlegend=False), row=1, col=1)\n",
    "\n",
    "# fig.add_trace(go.Scatter(x=list(range(N[0])), y=fpa_list[0], opacity=0.5, name='Frequentist Probability'), row=1, col=1)\n",
    "\n",
    "fig.add_trace(go.Histogram(x=n_to_convergence_improved, nbinsx=100), row=2, col=1)\n",
    "\n",
    "fig.show()"
   ]
  }
 ],
 "metadata": {
  "kernelspec": {
   "display_name": "Python 3",
   "language": "python",
   "name": "python3"
  },
  "language_info": {
   "codemirror_mode": {
    "name": "ipython",
    "version": 3
   },
   "file_extension": ".py",
   "mimetype": "text/x-python",
   "name": "python",
   "nbconvert_exporter": "python",
   "pygments_lexer": "ipython3",
   "version": "3.11.0 (main, Oct 24 2022, 18:26:48) [MSC v.1933 64 bit (AMD64)]"
  },
  "orig_nbformat": 4,
  "vscode": {
   "interpreter": {
    "hash": "8f47c651d242aed6e4ae7e534134112b2b81aa4f276da1af63f964daf1b6e7e6"
   }
  }
 },
 "nbformat": 4,
 "nbformat_minor": 2
}
